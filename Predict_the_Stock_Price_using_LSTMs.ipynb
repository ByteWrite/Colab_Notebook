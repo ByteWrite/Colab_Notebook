{
  "nbformat": 4,
  "nbformat_minor": 0,
  "metadata": {
    "colab": {
      "name": "Predict the Stock Price using LSTMs.ipynb",
      "provenance": []
    },
    "kernelspec": {
      "name": "python3",
      "display_name": "Python 3"
    },
    "accelerator": "GPU"
  },
  "cells": [
    {
      "cell_type": "code",
      "metadata": {
        "id": "YO_Hrk39VV92"
      },
      "source": [
        "import numpy as np\n",
        "import pandas as pd\n",
        "import matplotlib.pyplot as plt\n",
        "from sklearn.metrics import mean_absolute_error as mae\n",
        "from sklearn.preprocessing import StandardScaler\n",
        "\n",
        "from keras.models import Model\n",
        "from keras.layers import Input, LSTM, GRU, SimpleRNN, Dense\n",
        "import keras.backend as K\n",
        "from tensorflow.keras.optimizers import SGD, Adam"
      ],
      "execution_count": 1,
      "outputs": []
    },
    {
      "cell_type": "code",
      "metadata": {
        "id": "M2TK2V7aVba1"
      },
      "source": [
        "# get the data\n",
        "df = pd.read_csv('https://raw.githubusercontent.com/lazyprogrammer/machine_learning_examples/master/tf2.0/sbux.csv')"
      ],
      "execution_count": 2,
      "outputs": []
    },
    {
      "cell_type": "code",
      "metadata": {
        "id": "oddpS2giVe3e",
        "colab": {
          "base_uri": "https://localhost:8080/",
          "height": 206
        },
        "outputId": "2314793b-1cbd-41e5-c91a-bc64d9b62161"
      },
      "source": [
        "df.head()"
      ],
      "execution_count": 3,
      "outputs": [
        {
          "output_type": "execute_result",
          "data": {
            "text/html": [
              "<div>\n",
              "<style scoped>\n",
              "    .dataframe tbody tr th:only-of-type {\n",
              "        vertical-align: middle;\n",
              "    }\n",
              "\n",
              "    .dataframe tbody tr th {\n",
              "        vertical-align: top;\n",
              "    }\n",
              "\n",
              "    .dataframe thead th {\n",
              "        text-align: right;\n",
              "    }\n",
              "</style>\n",
              "<table border=\"1\" class=\"dataframe\">\n",
              "  <thead>\n",
              "    <tr style=\"text-align: right;\">\n",
              "      <th></th>\n",
              "      <th>date</th>\n",
              "      <th>open</th>\n",
              "      <th>high</th>\n",
              "      <th>low</th>\n",
              "      <th>close</th>\n",
              "      <th>volume</th>\n",
              "      <th>Name</th>\n",
              "    </tr>\n",
              "  </thead>\n",
              "  <tbody>\n",
              "    <tr>\n",
              "      <th>0</th>\n",
              "      <td>2013-02-08</td>\n",
              "      <td>27.920</td>\n",
              "      <td>28.325</td>\n",
              "      <td>27.920</td>\n",
              "      <td>28.185</td>\n",
              "      <td>7146296</td>\n",
              "      <td>SBUX</td>\n",
              "    </tr>\n",
              "    <tr>\n",
              "      <th>1</th>\n",
              "      <td>2013-02-11</td>\n",
              "      <td>28.260</td>\n",
              "      <td>28.260</td>\n",
              "      <td>27.930</td>\n",
              "      <td>28.070</td>\n",
              "      <td>5457354</td>\n",
              "      <td>SBUX</td>\n",
              "    </tr>\n",
              "    <tr>\n",
              "      <th>2</th>\n",
              "      <td>2013-02-12</td>\n",
              "      <td>28.000</td>\n",
              "      <td>28.275</td>\n",
              "      <td>27.975</td>\n",
              "      <td>28.130</td>\n",
              "      <td>8665592</td>\n",
              "      <td>SBUX</td>\n",
              "    </tr>\n",
              "    <tr>\n",
              "      <th>3</th>\n",
              "      <td>2013-02-13</td>\n",
              "      <td>28.230</td>\n",
              "      <td>28.230</td>\n",
              "      <td>27.750</td>\n",
              "      <td>27.915</td>\n",
              "      <td>7022056</td>\n",
              "      <td>SBUX</td>\n",
              "    </tr>\n",
              "    <tr>\n",
              "      <th>4</th>\n",
              "      <td>2013-02-14</td>\n",
              "      <td>27.765</td>\n",
              "      <td>27.905</td>\n",
              "      <td>27.675</td>\n",
              "      <td>27.775</td>\n",
              "      <td>8899188</td>\n",
              "      <td>SBUX</td>\n",
              "    </tr>\n",
              "  </tbody>\n",
              "</table>\n",
              "</div>"
            ],
            "text/plain": [
              "         date    open    high     low   close   volume  Name\n",
              "0  2013-02-08  27.920  28.325  27.920  28.185  7146296  SBUX\n",
              "1  2013-02-11  28.260  28.260  27.930  28.070  5457354  SBUX\n",
              "2  2013-02-12  28.000  28.275  27.975  28.130  8665592  SBUX\n",
              "3  2013-02-13  28.230  28.230  27.750  27.915  7022056  SBUX\n",
              "4  2013-02-14  27.765  27.905  27.675  27.775  8899188  SBUX"
            ]
          },
          "metadata": {},
          "execution_count": 3
        }
      ]
    },
    {
      "cell_type": "code",
      "metadata": {
        "id": "eTjnv3M2VhvJ"
      },
      "source": [
        "# get the close price\n",
        "series = df['close'].values.reshape(-1, 1)"
      ],
      "execution_count": 4,
      "outputs": []
    },
    {
      "cell_type": "code",
      "metadata": {
        "id": "AuDhY_EPVjof"
      },
      "source": [
        "# Normalize the data\n",
        "# Note: I didn't think about where the true boundary is, this is just approx.\n",
        "scaler = StandardScaler()\n",
        "scaler.fit(series[:len(series) // 2])\n",
        "series = scaler.transform(series).flatten()"
      ],
      "execution_count": 5,
      "outputs": []
    },
    {
      "cell_type": "code",
      "metadata": {
        "id": "2EnRkJiPVmZl",
        "colab": {
          "base_uri": "https://localhost:8080/",
          "height": 265
        },
        "outputId": "ac7bac3e-8f65-45b9-c359-f5e1a47d3bd4"
      },
      "source": [
        "# plot it\n",
        "plt.plot(series)\n",
        "plt.show()"
      ],
      "execution_count": 6,
      "outputs": [
        {
          "output_type": "display_data",
          "data": {
            "image/png": "[encoded data removed]",
            "text/plain": [
              "<Figure size 432x288 with 1 Axes>"
            ]
          },
          "metadata": {
            "needs_background": "light"
          }
        }
      ]
    },
    {
      "cell_type": "code",
      "metadata": {
        "id": "Dp4Hj93xVm64",
        "colab": {
          "base_uri": "https://localhost:8080/"
        },
        "outputId": "3db1ff12-055f-44e3-ef95-5ebe36ed9faf"
      },
      "source": [
        "### build the dataset\n",
        "# let's see if we can use T past values to predict the next value\n",
        "T = 10\n",
        "D = 1\n",
        "X = []\n",
        "Y = []\n",
        "for t in range(len(series) - T):\n",
        "  x = series[t:t+T]\n",
        "  X.append(x)\n",
        "  y = series[t+T]\n",
        "  Y.append(y)\n",
        "\n",
        "X = np.array(X).reshape(-1, T, 1)\n",
        "Y = np.array(Y)\n",
        "N = len(X)\n",
        "print(\"X.shape\", X.shape, \"Y.shape\", Y.shape)"
      ],
      "execution_count": 7,
      "outputs": [
        {
          "output_type": "stream",
          "name": "stdout",
          "text": [
            "X.shape (1249, 10, 1) Y.shape (1249,)\n"
          ]
        }
      ]
    },
    {
      "cell_type": "code",
      "metadata": {
        "id": "iT55s2ppV1Hz"
      },
      "source": [
        "# split into train and test\n",
        "Xtrain, Ytrain = X[:-N//2], Y[:-N//2]\n",
        "Xtest, Ytest = X[-N//2:], Y[-N//2:]"
      ],
      "execution_count": 8,
      "outputs": []
    },
    {
      "cell_type": "code",
      "metadata": {
        "id": "cV8tk843VsXH",
        "colab": {
          "base_uri": "https://localhost:8080/"
        },
        "outputId": "3e4ed8eb-7038-4680-bcd6-1ff04695afa3"
      },
      "source": [
        "### try autoregressive RNN model\n",
        "i = Input(shape=(T, 1))\n",
        "\n",
        "# multiple LSTMs\n",
        "# x = LSTM(5, return_sequences=True)(i)\n",
        "# x = LSTM(5, return_sequences=True)(x)\n",
        "# x = LSTM(5)(x)\n",
        "\n",
        "# one LSTM\n",
        "x = LSTM(5)(i)\n",
        "\n",
        "x = Dense(1)(x)\n",
        "model = Model(i, x)\n",
        "model.compile(\n",
        "  loss='mse',\n",
        "  optimizer=Adam(lr=0.01),\n",
        ")"
      ],
      "execution_count": 9,
      "outputs": [
        {
          "output_type": "stream",
          "name": "stderr",
          "text": [
            "/usr/local/lib/python3.7/dist-packages/keras/optimizer_v2/optimizer_v2.py:356: UserWarning: The `lr` argument is deprecated, use `learning_rate` instead.\n",
            "  \"The `lr` argument is deprecated, use `learning_rate` instead.\")\n"
          ]
        }
      ]
    },
    {
      "cell_type": "code",
      "metadata": {
        "id": "DU89ZekoVtwv",
        "colab": {
          "base_uri": "https://localhost:8080/"
        },
        "outputId": "5c3db3fa-6517-4292-a2ca-e0e9919bd884"
      },
      "source": [
        "# train the RNN\n",
        "r = model.fit(\n",
        "  Xtrain, Ytrain,\n",
        "  epochs=80,\n",
        "  validation_data=(Xtest, Ytest),\n",
        ")"
      ],
      "execution_count": 10,
      "outputs": [
        {
          "output_type": "stream",
          "name": "stdout",
          "text": [
            "Epoch 1/80\n",
            "20/20 [==============================] - 7s 34ms/step - loss: 0.5167 - val_loss: 1.6095\n",
            "Epoch 2/80\n",
            "20/20 [==============================] - 0s 8ms/step - loss: 0.1131 - val_loss: 0.7094\n",
            "Epoch 3/80\n",
            "20/20 [==============================] - 0s 8ms/step - loss: 0.0589 - val_loss: 0.5570\n",
            "Epoch 4/80\n",
            "20/20 [==============================] - 0s 8ms/step - loss: 0.0248 - val_loss: 0.2350\n",
            "Epoch 5/80\n",
            "20/20 [==============================] - 0s 8ms/step - loss: 0.0122 - val_loss: 0.1293\n",
            "Epoch 6/80\n",
            "20/20 [==============================] - 0s 8ms/step - loss: 0.0090 - val_loss: 0.0959\n",
            "Epoch 7/80\n",
            "20/20 [==============================] - 0s 8ms/step - loss: 0.0078 - val_loss: 0.0858\n",
            "Epoch 8/80\n",
            "20/20 [==============================] - 0s 8ms/step - loss: 0.0075 - val_loss: 0.0782\n",
            "Epoch 9/80\n",
            "20/20 [==============================] - 0s 8ms/step - loss: 0.0070 - val_loss: 0.0732\n",
            "Epoch 10/80\n",
            "20/20 [==============================] - 0s 8ms/step - loss: 0.0066 - val_loss: 0.0725\n",
            "Epoch 11/80\n",
            "20/20 [==============================] - 0s 8ms/step - loss: 0.0063 - val_loss: 0.0623\n",
            "Epoch 12/80\n",
            "20/20 [==============================] - 0s 8ms/step - loss: 0.0065 - val_loss: 0.0580\n",
            "Epoch 13/80\n",
            "20/20 [==============================] - 0s 9ms/step - loss: 0.0068 - val_loss: 0.0606\n",
            "Epoch 14/80\n",
            "20/20 [==============================] - 0s 8ms/step - loss: 0.0064 - val_loss: 0.0557\n",
            "Epoch 15/80\n",
            "20/20 [==============================] - 0s 8ms/step - loss: 0.0061 - val_loss: 0.0505\n",
            "Epoch 16/80\n",
            "20/20 [==============================] - 0s 8ms/step - loss: 0.0061 - val_loss: 0.0506\n",
            "Epoch 17/80\n",
            "20/20 [==============================] - 0s 9ms/step - loss: 0.0061 - val_loss: 0.0474\n",
            "Epoch 18/80\n",
            "20/20 [==============================] - 0s 8ms/step - loss: 0.0058 - val_loss: 0.0491\n",
            "Epoch 19/80\n",
            "20/20 [==============================] - 0s 9ms/step - loss: 0.0057 - val_loss: 0.0445\n",
            "Epoch 20/80\n",
            "20/20 [==============================] - 0s 8ms/step - loss: 0.0056 - val_loss: 0.0432\n",
            "Epoch 21/80\n",
            "20/20 [==============================] - 0s 8ms/step - loss: 0.0054 - val_loss: 0.0451\n",
            "Epoch 22/80\n",
            "20/20 [==============================] - 0s 8ms/step - loss: 0.0054 - val_loss: 0.0414\n",
            "Epoch 23/80\n",
            "20/20 [==============================] - 0s 8ms/step - loss: 0.0056 - val_loss: 0.0439\n",
            "Epoch 24/80\n",
            "20/20 [==============================] - 0s 8ms/step - loss: 0.0059 - val_loss: 0.0380\n",
            "Epoch 25/80\n",
            "20/20 [==============================] - 0s 8ms/step - loss: 0.0056 - val_loss: 0.0370\n",
            "Epoch 26/80\n",
            "20/20 [==============================] - 0s 8ms/step - loss: 0.0054 - val_loss: 0.0370\n",
            "Epoch 27/80\n",
            "20/20 [==============================] - 0s 8ms/step - loss: 0.0060 - val_loss: 0.0380\n",
            "Epoch 28/80\n",
            "20/20 [==============================] - 0s 8ms/step - loss: 0.0056 - val_loss: 0.0467\n",
            "Epoch 29/80\n",
            "20/20 [==============================] - 0s 8ms/step - loss: 0.0059 - val_loss: 0.0358\n",
            "Epoch 30/80\n",
            "20/20 [==============================] - 0s 8ms/step - loss: 0.0051 - val_loss: 0.0358\n",
            "Epoch 31/80\n",
            "20/20 [==============================] - 0s 7ms/step - loss: 0.0060 - val_loss: 0.0352\n",
            "Epoch 32/80\n",
            "20/20 [==============================] - 0s 8ms/step - loss: 0.0052 - val_loss: 0.0345\n",
            "Epoch 33/80\n",
            "20/20 [==============================] - 0s 8ms/step - loss: 0.0052 - val_loss: 0.0396\n",
            "Epoch 34/80\n",
            "20/20 [==============================] - 0s 8ms/step - loss: 0.0058 - val_loss: 0.0333\n",
            "Epoch 35/80\n",
            "20/20 [==============================] - 0s 8ms/step - loss: 0.0053 - val_loss: 0.0339\n",
            "Epoch 36/80\n",
            "20/20 [==============================] - 0s 8ms/step - loss: 0.0055 - val_loss: 0.0330\n",
            "Epoch 37/80\n",
            "20/20 [==============================] - 0s 8ms/step - loss: 0.0051 - val_loss: 0.0396\n",
            "Epoch 38/80\n",
            "20/20 [==============================] - 0s 8ms/step - loss: 0.0052 - val_loss: 0.0331\n",
            "Epoch 39/80\n",
            "20/20 [==============================] - 0s 8ms/step - loss: 0.0051 - val_loss: 0.0309\n",
            "Epoch 40/80\n",
            "20/20 [==============================] - 0s 8ms/step - loss: 0.0058 - val_loss: 0.0339\n",
            "Epoch 41/80\n",
            "20/20 [==============================] - 0s 8ms/step - loss: 0.0054 - val_loss: 0.0313\n",
            "Epoch 42/80\n",
            "20/20 [==============================] - 0s 9ms/step - loss: 0.0055 - val_loss: 0.0324\n",
            "Epoch 43/80\n",
            "20/20 [==============================] - 0s 8ms/step - loss: 0.0052 - val_loss: 0.0282\n",
            "Epoch 44/80\n",
            "20/20 [==============================] - 0s 8ms/step - loss: 0.0050 - val_loss: 0.0299\n",
            "Epoch 45/80\n",
            "20/20 [==============================] - 0s 8ms/step - loss: 0.0051 - val_loss: 0.0314\n",
            "Epoch 46/80\n",
            "20/20 [==============================] - 0s 8ms/step - loss: 0.0051 - val_loss: 0.0293\n",
            "Epoch 47/80\n",
            "20/20 [==============================] - 0s 8ms/step - loss: 0.0052 - val_loss: 0.0292\n",
            "Epoch 48/80\n",
            "20/20 [==============================] - 0s 8ms/step - loss: 0.0049 - val_loss: 0.0287\n",
            "Epoch 49/80\n",
            "20/20 [==============================] - 0s 8ms/step - loss: 0.0054 - val_loss: 0.0282\n",
            "Epoch 50/80\n",
            "20/20 [==============================] - 0s 8ms/step - loss: 0.0050 - val_loss: 0.0271\n",
            "Epoch 51/80\n",
            "20/20 [==============================] - 0s 8ms/step - loss: 0.0052 - val_loss: 0.0313\n",
            "Epoch 52/80\n",
            "20/20 [==============================] - 0s 8ms/step - loss: 0.0049 - val_loss: 0.0288\n",
            "Epoch 53/80\n",
            "20/20 [==============================] - 0s 8ms/step - loss: 0.0050 - val_loss: 0.0265\n",
            "Epoch 54/80\n",
            "20/20 [==============================] - 0s 9ms/step - loss: 0.0053 - val_loss: 0.0315\n",
            "Epoch 55/80\n",
            "20/20 [==============================] - 0s 10ms/step - loss: 0.0053 - val_loss: 0.0275\n",
            "Epoch 56/80\n",
            "20/20 [==============================] - 0s 8ms/step - loss: 0.0053 - val_loss: 0.0300\n",
            "Epoch 57/80\n",
            "20/20 [==============================] - 0s 8ms/step - loss: 0.0053 - val_loss: 0.0269\n",
            "Epoch 58/80\n",
            "20/20 [==============================] - 0s 8ms/step - loss: 0.0049 - val_loss: 0.0256\n",
            "Epoch 59/80\n",
            "20/20 [==============================] - 0s 8ms/step - loss: 0.0050 - val_loss: 0.0259\n",
            "Epoch 60/80\n",
            "20/20 [==============================] - 0s 9ms/step - loss: 0.0050 - val_loss: 0.0252\n",
            "Epoch 61/80\n",
            "20/20 [==============================] - 0s 8ms/step - loss: 0.0050 - val_loss: 0.0268\n",
            "Epoch 62/80\n",
            "20/20 [==============================] - 0s 8ms/step - loss: 0.0053 - val_loss: 0.0259\n",
            "Epoch 63/80\n",
            "20/20 [==============================] - 0s 8ms/step - loss: 0.0051 - val_loss: 0.0259\n",
            "Epoch 64/80\n",
            "20/20 [==============================] - 0s 9ms/step - loss: 0.0049 - val_loss: 0.0271\n",
            "Epoch 65/80\n",
            "20/20 [==============================] - 0s 8ms/step - loss: 0.0050 - val_loss: 0.0245\n",
            "Epoch 66/80\n",
            "20/20 [==============================] - 0s 8ms/step - loss: 0.0049 - val_loss: 0.0239\n",
            "Epoch 67/80\n",
            "20/20 [==============================] - 0s 8ms/step - loss: 0.0052 - val_loss: 0.0256\n",
            "Epoch 68/80\n",
            "20/20 [==============================] - 0s 8ms/step - loss: 0.0050 - val_loss: 0.0251\n",
            "Epoch 69/80\n",
            "20/20 [==============================] - 0s 8ms/step - loss: 0.0054 - val_loss: 0.0258\n",
            "Epoch 70/80\n",
            "20/20 [==============================] - 0s 8ms/step - loss: 0.0051 - val_loss: 0.0241\n",
            "Epoch 71/80\n",
            "20/20 [==============================] - 0s 8ms/step - loss: 0.0049 - val_loss: 0.0237\n",
            "Epoch 72/80\n",
            "20/20 [==============================] - 0s 8ms/step - loss: 0.0051 - val_loss: 0.0392\n",
            "Epoch 73/80\n",
            "20/20 [==============================] - 0s 8ms/step - loss: 0.0054 - val_loss: 0.0271\n",
            "Epoch 74/80\n",
            "20/20 [==============================] - 0s 9ms/step - loss: 0.0050 - val_loss: 0.0226\n",
            "Epoch 75/80\n",
            "20/20 [==============================] - 0s 8ms/step - loss: 0.0049 - val_loss: 0.0235\n",
            "Epoch 76/80\n",
            "20/20 [==============================] - 0s 8ms/step - loss: 0.0055 - val_loss: 0.0236\n",
            "Epoch 77/80\n",
            "20/20 [==============================] - 0s 8ms/step - loss: 0.0050 - val_loss: 0.0231\n",
            "Epoch 78/80\n",
            "20/20 [==============================] - 0s 9ms/step - loss: 0.0051 - val_loss: 0.0234\n",
            "Epoch 79/80\n",
            "20/20 [==============================] - 0s 8ms/step - loss: 0.0053 - val_loss: 0.0257\n",
            "Epoch 80/80\n",
            "20/20 [==============================] - 0s 8ms/step - loss: 0.0051 - val_loss: 0.0250\n"
          ]
        }
      ]
    },
    {
      "cell_type": "code",
      "metadata": {
        "id": "3rW1u_RzV6A9",
        "colab": {
          "base_uri": "https://localhost:8080/",
          "height": 265
        },
        "outputId": "02100116-4a41-4c29-ba42-7fe93bfcf729"
      },
      "source": [
        "# Plot loss per iteration\n",
        "plt.plot(r.history['loss'], label='loss')\n",
        "plt.plot(r.history['val_loss'], label='val_loss')\n",
        "plt.legend()\n",
        "plt.show()"
      ],
      "execution_count": 11,
      "outputs": [
        {
          "output_type": "display_data",
          "data": {
            "image/png": "[encoded data removed]",
            "text/plain": [
              "<Figure size 432x288 with 1 Axes>"
            ]
          },
          "metadata": {
            "needs_background": "light"
          }
        }
      ]
    },
    {
      "cell_type": "code",
      "metadata": {
        "id": "qJqNWBYYWE7f"
      },
      "source": [
        "# Make predictions\n",
        "Ptrain = model.predict(Xtrain)\n",
        "Ptest = model.predict(Xtest)"
      ],
      "execution_count": 12,
      "outputs": []
    },
    {
      "cell_type": "code",
      "metadata": {
        "id": "uiq9hZ5KWN-w"
      },
      "source": [
        "# inverse transform\n",
        "Ytrain2 = scaler.inverse_transform(Ytrain.reshape(-1, 1)).flatten()\n",
        "Ytest2 = scaler.inverse_transform(Ytest.reshape(-1, 1)).flatten()\n",
        "Ptrain2 = scaler.inverse_transform(Ptrain.reshape(-1, 1)).flatten()\n",
        "Ptest2 = scaler.inverse_transform(Ptest.reshape(-1, 1)).flatten()"
      ],
      "execution_count": 13,
      "outputs": []
    },
    {
      "cell_type": "code",
      "metadata": {
        "id": "RbGYAabCWK9b",
        "colab": {
          "base_uri": "https://localhost:8080/"
        },
        "outputId": "4d54cf20-5f73-494f-9541-bf968f1bce1c"
      },
      "source": [
        "# Print the MAE\n",
        "print(\"lstm train mae:\", mae(Ytrain2, Ptrain2))\n",
        "print(\"lstm test mae:\", mae(Ytest2, Ptest2))"
      ],
      "execution_count": 14,
      "outputs": [
        {
          "output_type": "stream",
          "name": "stdout",
          "text": [
            "lstm train mae: 0.3628948327822564\n",
            "lstm test mae: 0.8146743266601563\n"
          ]
        }
      ]
    },
    {
      "cell_type": "code",
      "metadata": {
        "id": "OqQdKUznWQih",
        "colab": {
          "base_uri": "https://localhost:8080/",
          "height": 281
        },
        "outputId": "c3f44c31-ff9d-4d15-a2d9-545bfbe9e9f3"
      },
      "source": [
        "# wrong forecast\n",
        "plt.plot(Ytest, label='target')\n",
        "plt.plot(Ptest, label='prediction')\n",
        "plt.legend()\n",
        "plt.title(\"Wrong forecast\")\n",
        "plt.show()"
      ],
      "execution_count": 15,
      "outputs": [
        {
          "output_type": "display_data",
          "data": {
            "image/png": "[encoded data removed]",
            "text/plain": [
              "<Figure size 432x288 with 1 Axes>"
            ]
          },
          "metadata": {
            "needs_background": "light"
          }
        }
      ]
    },
    {
      "cell_type": "code",
      "metadata": {
        "id": "pn5xOXbQWj2o",
        "colab": {
          "base_uri": "https://localhost:8080/",
          "height": 281
        },
        "outputId": "d4f4d774-0781-4cde-8b3c-9c5a27fac875"
      },
      "source": [
        "# right forecast\n",
        "forecast = []\n",
        "input_ = Xtest[0]\n",
        "while len(forecast) < len(Ytest):\n",
        "  f = model.predict(input_.reshape(1, T, 1))[0,0]\n",
        "  forecast.append(f)\n",
        "\n",
        "  # make a new input with the latest forecast\n",
        "  input_ = np.roll(input_, -1)\n",
        "  input_[-1] = f\n",
        "plt.plot(Ytest, label='target')\n",
        "plt.plot(forecast, label='prediction')\n",
        "plt.legend()\n",
        "plt.title(\"Right forecast\")\n",
        "plt.show()"
      ],
      "execution_count": 16,
      "outputs": [
        {
          "output_type": "display_data",
          "data": {
            "image/png": "[encoded data removed]",
            "text/plain": [
              "<Figure size 432x288 with 1 Axes>"
            ]
          },
          "metadata": {
            "needs_background": "light"
          }
        }
      ]
    },
    {
      "cell_type": "code",
      "metadata": {
        "id": "05RJX2QmM9jP"
      },
      "source": [
        ""
      ],
      "execution_count": null,
      "outputs": []
    }
  ]
}