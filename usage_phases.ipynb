{
  "nbformat": 4,
  "nbformat_minor": 0,
  "metadata": {
    "language_info": {
      "codemirror_mode": {
        "name": "ipython",
        "version": 3
      },
      "file_extension": ".py",
      "mimetype": "text/x-python",
      "name": "python",
      "nbconvert_exporter": "python",
      "pygments_lexer": "ipython3",
      "version": "3.9.2-final"
    },
    "orig_nbformat": 2,
    "kernelspec": {
      "name": "python3",
      "display_name": "Python 3.9.2 64-bit ('.venv')",
      "metadata": {
        "interpreter": {
          "hash": "aa53c8c6e6798222a2084c11cc25017700a8d3ad495b587e3a634f357767115f"
        }
      }
    },
    "colab": {
      "name": "usage_phases.ipynb",
      "provenance": []
    }
  },
  "cells": [
    {
      "cell_type": "markdown",
      "metadata": {
        "id": "Iys9DTJeEUWG"
      },
      "source": [
        "# Usage: S-R trend analysis\n",
        "\n",
        "[![Open In Colab](https://colab.research.google.com/assets/colab-badge.svg)](https://colab.research.google.com/github/lisphilar/covid19-sir/blob/master/example/usage_phases.ipynb)\n",
        "\n",
        "Here, how to set phases in scenario analysis will be explained. As an example, use the records in India."
      ]
    },
    {
      "cell_type": "markdown",
      "metadata": {
        "id": "zLRU6t66EUWM"
      },
      "source": [
        "## Preperation"
      ]
    },
    {
      "cell_type": "code",
      "metadata": {
        "tags": [],
        "id": "l4QorxEjEUWN",
        "outputId": "4d39bc36-cd16-48aa-d4f8-71d50d13fbf6",
        "colab": {
          "base_uri": "https://localhost:8080/"
        }
      },
      "source": [
        "!pip install covsirphy --upgrade"
      ],
      "execution_count": 1,
      "outputs": [
        {
          "output_type": "stream",
          "name": "stdout",
          "text": [
            "Requirement already satisfied: covsirphy in /usr/local/lib/python3.7/dist-packages (2.22.0)\n",
            "Requirement already satisfied: country-converter<0.8.0,>=0.7.1 in /usr/local/lib/python3.7/dist-packages (from covsirphy) (0.7.3)\n",
            "Requirement already satisfied: pandas<2.0.0,>=1.1.5 in /usr/local/lib/python3.7/dist-packages (from covsirphy) (1.1.5)\n",
            "Requirement already satisfied: scikit-learn<0.25.0,>=0.24.0 in /usr/local/lib/python3.7/dist-packages (from covsirphy) (0.24.2)\n",
            "Requirement already satisfied: mapclassify<3.0.0,>=2.4.2 in /usr/local/lib/python3.7/dist-packages (from covsirphy) (2.4.3)\n",
            "Requirement already satisfied: ruptures<2.0.0,>=1.1.1 in /usr/local/lib/python3.7/dist-packages (from covsirphy) (1.1.5)\n",
            "Requirement already satisfied: better-exceptions<0.4.0,>=0.3.2 in /usr/local/lib/python3.7/dist-packages (from covsirphy) (0.3.3)\n",
            "Requirement already satisfied: matplotlib<4.0.0,>=3.2.1 in /usr/local/lib/python3.7/dist-packages (from covsirphy) (3.2.2)\n",
            "Requirement already satisfied: numpy<2.0.0,>=1.18.5 in /usr/local/lib/python3.7/dist-packages (from covsirphy) (1.19.5)\n",
            "Requirement already satisfied: scipy<2.0.0,>=1.4.1 in /usr/local/lib/python3.7/dist-packages (from covsirphy) (1.4.1)\n",
            "Requirement already satisfied: seaborn<0.12.0,>=0.11.1 in /usr/local/lib/python3.7/dist-packages (from covsirphy) (0.11.2)\n",
            "Requirement already satisfied: requests<3.0.0,>=2.25.1 in /usr/local/lib/python3.7/dist-packages (from covsirphy) (2.26.0)\n",
            "Requirement already satisfied: geopandas<0.10.0,>=0.9.0 in /usr/local/lib/python3.7/dist-packages (from covsirphy) (0.9.0)\n",
            "Requirement already satisfied: Unidecode<2.0.0,>=1.2.0 in /usr/local/lib/python3.7/dist-packages (from covsirphy) (1.3.2)\n",
            "Requirement already satisfied: tabulate<0.9.0,>=0.8.7 in /usr/local/lib/python3.7/dist-packages (from covsirphy) (0.8.9)\n",
            "Requirement already satisfied: optuna<3.0.0,>=2.3.0 in /usr/local/lib/python3.7/dist-packages (from covsirphy) (2.10.0)\n",
            "Requirement already satisfied: wbdata<0.4.0,>=0.3.0 in /usr/local/lib/python3.7/dist-packages (from covsirphy) (0.3.0)\n",
            "Requirement already satisfied: descartes<2.0.0,>=1.1.0 in /usr/local/lib/python3.7/dist-packages (from covsirphy) (1.1.0)\n",
            "Requirement already satisfied: japanmap<0.0.25,>=0.0.21 in /usr/local/lib/python3.7/dist-packages (from covsirphy) (0.0.23)\n",
            "Requirement already satisfied: lightgbm<4.0.0,>=3.2.1 in /usr/local/lib/python3.7/dist-packages (from covsirphy) (3.3.1)\n",
            "Requirement already satisfied: covid19dh<3.0.0,>=2.0.3 in /usr/local/lib/python3.7/dist-packages (from covsirphy) (2.3.0)\n",
            "Requirement already satisfied: shapely>=1.6 in /usr/local/lib/python3.7/dist-packages (from geopandas<0.10.0,>=0.9.0->covsirphy) (1.7.1)\n",
            "Requirement already satisfied: pyproj>=2.2.0 in /usr/local/lib/python3.7/dist-packages (from geopandas<0.10.0,>=0.9.0->covsirphy) (3.2.1)\n",
            "Requirement already satisfied: fiona>=1.8 in /usr/local/lib/python3.7/dist-packages (from geopandas<0.10.0,>=0.9.0->covsirphy) (1.8.20)\n",
            "Requirement already satisfied: cligj>=0.5 in /usr/local/lib/python3.7/dist-packages (from fiona>=1.8->geopandas<0.10.0,>=0.9.0->covsirphy) (0.7.2)\n",
            "Requirement already satisfied: click-plugins>=1.0 in /usr/local/lib/python3.7/dist-packages (from fiona>=1.8->geopandas<0.10.0,>=0.9.0->covsirphy) (1.1.1)\n",
            "Requirement already satisfied: certifi in /usr/local/lib/python3.7/dist-packages (from fiona>=1.8->geopandas<0.10.0,>=0.9.0->covsirphy) (2021.5.30)\n",
            "Requirement already satisfied: munch in /usr/local/lib/python3.7/dist-packages (from fiona>=1.8->geopandas<0.10.0,>=0.9.0->covsirphy) (2.5.0)\n",
            "Requirement already satisfied: attrs>=17 in /usr/local/lib/python3.7/dist-packages (from fiona>=1.8->geopandas<0.10.0,>=0.9.0->covsirphy) (21.2.0)\n",
            "Requirement already satisfied: setuptools in /usr/local/lib/python3.7/dist-packages (from fiona>=1.8->geopandas<0.10.0,>=0.9.0->covsirphy) (57.4.0)\n",
            "Requirement already satisfied: six>=1.7 in /usr/local/lib/python3.7/dist-packages (from fiona>=1.8->geopandas<0.10.0,>=0.9.0->covsirphy) (1.15.0)\n",
            "Requirement already satisfied: click>=4.0 in /usr/local/lib/python3.7/dist-packages (from fiona>=1.8->geopandas<0.10.0,>=0.9.0->covsirphy) (7.1.2)\n",
            "Requirement already satisfied: opencv-python<5.0.0,>=4.2.0 in /usr/local/lib/python3.7/dist-packages (from japanmap<0.0.25,>=0.0.21->covsirphy) (4.5.4.58)\n",
            "Requirement already satisfied: Pillow<8.0.0,>=7.1.1 in /usr/local/lib/python3.7/dist-packages (from japanmap<0.0.25,>=0.0.21->covsirphy) (7.1.2)\n",
            "Requirement already satisfied: wheel in /usr/local/lib/python3.7/dist-packages (from lightgbm<4.0.0,>=3.2.1->covsirphy) (0.37.0)\n",
            "Requirement already satisfied: networkx in /usr/local/lib/python3.7/dist-packages (from mapclassify<3.0.0,>=2.4.2->covsirphy) (2.6.3)\n",
            "Requirement already satisfied: cycler>=0.10 in /usr/local/lib/python3.7/dist-packages (from matplotlib<4.0.0,>=3.2.1->covsirphy) (0.10.0)\n",
            "Requirement already satisfied: pyparsing!=2.0.4,!=2.1.2,!=2.1.6,>=2.0.1 in /usr/local/lib/python3.7/dist-packages (from matplotlib<4.0.0,>=3.2.1->covsirphy) (2.4.7)\n",
            "Requirement already satisfied: python-dateutil>=2.1 in /usr/local/lib/python3.7/dist-packages (from matplotlib<4.0.0,>=3.2.1->covsirphy) (2.8.2)\n",
            "Requirement already satisfied: kiwisolver>=1.0.1 in /usr/local/lib/python3.7/dist-packages (from matplotlib<4.0.0,>=3.2.1->covsirphy) (1.3.2)\n",
            "Requirement already satisfied: sqlalchemy>=1.1.0 in /usr/local/lib/python3.7/dist-packages (from optuna<3.0.0,>=2.3.0->covsirphy) (1.4.25)\n",
            "Requirement already satisfied: cliff in /usr/local/lib/python3.7/dist-packages (from optuna<3.0.0,>=2.3.0->covsirphy) (3.9.0)\n",
            "Requirement already satisfied: tqdm in /usr/local/lib/python3.7/dist-packages (from optuna<3.0.0,>=2.3.0->covsirphy) (4.62.3)\n",
            "Requirement already satisfied: PyYAML in /usr/local/lib/python3.7/dist-packages (from optuna<3.0.0,>=2.3.0->covsirphy) (3.13)\n",
            "Requirement already satisfied: packaging>=20.0 in /usr/local/lib/python3.7/dist-packages (from optuna<3.0.0,>=2.3.0->covsirphy) (21.0)\n",
            "Requirement already satisfied: colorlog in /usr/local/lib/python3.7/dist-packages (from optuna<3.0.0,>=2.3.0->covsirphy) (6.5.0)\n",
            "Requirement already satisfied: alembic in /usr/local/lib/python3.7/dist-packages (from optuna<3.0.0,>=2.3.0->covsirphy) (1.7.4)\n",
            "Requirement already satisfied: cmaes>=0.8.2 in /usr/local/lib/python3.7/dist-packages (from optuna<3.0.0,>=2.3.0->covsirphy) (0.8.2)\n",
            "Requirement already satisfied: pytz>=2017.2 in /usr/local/lib/python3.7/dist-packages (from pandas<2.0.0,>=1.1.5->covsirphy) (2018.9)\n",
            "Requirement already satisfied: charset-normalizer~=2.0.0 in /usr/local/lib/python3.7/dist-packages (from requests<3.0.0,>=2.25.1->covsirphy) (2.0.7)\n",
            "Requirement already satisfied: urllib3<1.27,>=1.21.1 in /usr/local/lib/python3.7/dist-packages (from requests<3.0.0,>=2.25.1->covsirphy) (1.24.3)\n",
            "Requirement already satisfied: idna<4,>=2.5 in /usr/local/lib/python3.7/dist-packages (from requests<3.0.0,>=2.25.1->covsirphy) (2.10)\n",
            "Requirement already satisfied: threadpoolctl>=2.0.0 in /usr/local/lib/python3.7/dist-packages (from scikit-learn<0.25.0,>=0.24.0->covsirphy) (3.0.0)\n",
            "Requirement already satisfied: joblib>=0.11 in /usr/local/lib/python3.7/dist-packages (from scikit-learn<0.25.0,>=0.24.0->covsirphy) (1.0.1)\n",
            "Requirement already satisfied: greenlet!=0.4.17 in /usr/local/lib/python3.7/dist-packages (from sqlalchemy>=1.1.0->optuna<3.0.0,>=2.3.0->covsirphy) (1.1.2)\n",
            "Requirement already satisfied: importlib-metadata in /usr/local/lib/python3.7/dist-packages (from sqlalchemy>=1.1.0->optuna<3.0.0,>=2.3.0->covsirphy) (4.8.1)\n",
            "Requirement already satisfied: decorator>=4.0 in /usr/local/lib/python3.7/dist-packages (from wbdata<0.4.0,>=0.3.0->covsirphy) (4.4.2)\n",
            "Requirement already satisfied: appdirs<2.0,>=1.4 in /usr/local/lib/python3.7/dist-packages (from wbdata<0.4.0,>=0.3.0->covsirphy) (1.4.4)\n",
            "Requirement already satisfied: Mako in /usr/local/lib/python3.7/dist-packages (from alembic->optuna<3.0.0,>=2.3.0->covsirphy) (1.1.5)\n",
            "Requirement already satisfied: importlib-resources in /usr/local/lib/python3.7/dist-packages (from alembic->optuna<3.0.0,>=2.3.0->covsirphy) (5.2.2)\n",
            "Requirement already satisfied: cmd2>=1.0.0 in /usr/local/lib/python3.7/dist-packages (from cliff->optuna<3.0.0,>=2.3.0->covsirphy) (2.2.0)\n",
            "Requirement already satisfied: PrettyTable>=0.7.2 in /usr/local/lib/python3.7/dist-packages (from cliff->optuna<3.0.0,>=2.3.0->covsirphy) (2.2.1)\n",
            "Requirement already satisfied: pbr!=2.1.0,>=2.0.0 in /usr/local/lib/python3.7/dist-packages (from cliff->optuna<3.0.0,>=2.3.0->covsirphy) (5.6.0)\n",
            "Requirement already satisfied: autopage>=0.4.0 in /usr/local/lib/python3.7/dist-packages (from cliff->optuna<3.0.0,>=2.3.0->covsirphy) (0.4.0)\n",
            "Requirement already satisfied: stevedore>=2.0.1 in /usr/local/lib/python3.7/dist-packages (from cliff->optuna<3.0.0,>=2.3.0->covsirphy) (3.5.0)\n",
            "Requirement already satisfied: pyperclip>=1.6 in /usr/local/lib/python3.7/dist-packages (from cmd2>=1.0.0->cliff->optuna<3.0.0,>=2.3.0->covsirphy) (1.8.2)\n",
            "Requirement already satisfied: typing-extensions in /usr/local/lib/python3.7/dist-packages (from cmd2>=1.0.0->cliff->optuna<3.0.0,>=2.3.0->covsirphy) (3.7.4.3)\n",
            "Requirement already satisfied: wcwidth>=0.1.7 in /usr/local/lib/python3.7/dist-packages (from cmd2>=1.0.0->cliff->optuna<3.0.0,>=2.3.0->covsirphy) (0.2.5)\n",
            "Requirement already satisfied: colorama>=0.3.7 in /usr/local/lib/python3.7/dist-packages (from cmd2>=1.0.0->cliff->optuna<3.0.0,>=2.3.0->covsirphy) (0.4.4)\n",
            "Requirement already satisfied: zipp>=0.5 in /usr/local/lib/python3.7/dist-packages (from importlib-metadata->sqlalchemy>=1.1.0->optuna<3.0.0,>=2.3.0->covsirphy) (3.6.0)\n",
            "Requirement already satisfied: MarkupSafe>=0.9.2 in /usr/local/lib/python3.7/dist-packages (from Mako->alembic->optuna<3.0.0,>=2.3.0->covsirphy) (2.0.1)\n"
          ]
        }
      ]
    },
    {
      "cell_type": "code",
      "metadata": {
        "id": "zIMMvKzNQvdZ",
        "outputId": "85c8cc39-e4f5-4749-db39-7d4e00d309d1",
        "colab": {
          "base_uri": "https://localhost:8080/",
          "height": 35
        }
      },
      "source": [
        "import covsirphy as cs\n",
        "cs.__version__"
      ],
      "execution_count": 2,
      "outputs": [
        {
          "output_type": "execute_result",
          "data": {
            "application/vnd.google.colaboratory.intrinsic+json": {
              "type": "string"
            },
            "text/plain": [
              "'2.22.0'"
            ]
          },
          "metadata": {},
          "execution_count": 2
        }
      ]
    },
    {
      "cell_type": "code",
      "metadata": {
        "tags": [],
        "id": "rL_In2_eEUWP"
      },
      "source": [
        "# Load datasets\n",
        "loader = cs.DataLoader(\"../input\")\n",
        "jhu_data = loader.jhu()"
      ],
      "execution_count": 3,
      "outputs": []
    },
    {
      "cell_type": "code",
      "metadata": {
        "id": "Noj7Tv0GEUWQ"
      },
      "source": [
        "# Create instance of `Scenario` class\n",
        "snl = cs.Scenario(country=\"India\", province=None)\n",
        "snl.register(jhu_data)"
      ],
      "execution_count": 4,
      "outputs": []
    },
    {
      "cell_type": "code",
      "metadata": {
        "tags": [],
        "id": "CCYDO_u1EUWQ",
        "outputId": "9e6f2c2d-b812-46c1-8aed-dd1f64436b16",
        "colab": {
          "base_uri": "https://localhost:8080/",
          "height": 157
        }
      },
      "source": [
        "# Summarize main scenario\n",
        "snl.summary()"
      ],
      "execution_count": 5,
      "outputs": [
        {
          "output_type": "execute_result",
          "data": {
            "text/html": [
              "<div>\n",
              "<style scoped>\n",
              "    .dataframe tbody tr th:only-of-type {\n",
              "        vertical-align: middle;\n",
              "    }\n",
              "\n",
              "    .dataframe tbody tr th {\n",
              "        vertical-align: top;\n",
              "    }\n",
              "\n",
              "    .dataframe thead th {\n",
              "        text-align: right;\n",
              "    }\n",
              "</style>\n",
              "<table border=\"1\" class=\"dataframe\">\n",
              "  <thead>\n",
              "    <tr style=\"text-align: right;\">\n",
              "      <th></th>\n",
              "    </tr>\n",
              "  </thead>\n",
              "  <tbody>\n",
              "    <tr>\n",
              "      <th>Type</th>\n",
              "    </tr>\n",
              "    <tr>\n",
              "      <th>Start</th>\n",
              "    </tr>\n",
              "    <tr>\n",
              "      <th>End</th>\n",
              "    </tr>\n",
              "    <tr>\n",
              "      <th>Population</th>\n",
              "    </tr>\n",
              "  </tbody>\n",
              "</table>\n",
              "</div>"
            ],
            "text/plain": [
              "Empty DataFrame\n",
              "Columns: []\n",
              "Index: [Type, Start, End, Population]"
            ]
          },
          "metadata": {},
          "execution_count": 5
        }
      ]
    },
    {
      "cell_type": "markdown",
      "metadata": {
        "id": "z0ZEPrscEUWR"
      },
      "source": [
        "Note:  \n",
        "This is empty because no phases are registered. Term \"phase\" means a sequential dates in which the parameters of SIR-derived models are fixed. The details will be explained later."
      ]
    },
    {
      "cell_type": "markdown",
      "metadata": {
        "id": "2w8YEg9bEUWS"
      },
      "source": [
        "Just for demonstration, we will fix the first/end date of the records here. This is un-necessary for your analysis when you want to use all records.\n",
        "Today means the reference date to determine whether a phase is a past phase or a future phase."
      ]
    },
    {
      "cell_type": "code",
      "metadata": {
        "tags": [],
        "id": "4R1Do4frEUWT",
        "outputId": "f8e9d2c9-f894-49b0-9316-f5ab5f3c753d",
        "colab": {
          "base_uri": "https://localhost:8080/",
          "height": 209
        }
      },
      "source": [
        "# Fix the first/last date of the records and today\n",
        "# today must be in the range of (first_date, last_date).\n",
        "# Default: None means automatically specified (min/max will be used)\n",
        "snl.timepoints(first_date=\"01Mar2020\", last_date=\"31Dec2020\", today=\"16Jul2020\")\n",
        "# Check dates\n",
        "print(snl.first_date)\n",
        "print(snl.last_date)\n",
        "print(snl.today)\n",
        "# Summarize (Empty because no phases are registered)\n",
        "snl.summary()"
      ],
      "execution_count": 6,
      "outputs": [
        {
          "output_type": "stream",
          "name": "stdout",
          "text": [
            "01Mar2020\n",
            "31Dec2020\n",
            "16Jul2020\n"
          ]
        },
        {
          "output_type": "execute_result",
          "data": {
            "text/html": [
              "<div>\n",
              "<style scoped>\n",
              "    .dataframe tbody tr th:only-of-type {\n",
              "        vertical-align: middle;\n",
              "    }\n",
              "\n",
              "    .dataframe tbody tr th {\n",
              "        vertical-align: top;\n",
              "    }\n",
              "\n",
              "    .dataframe thead th {\n",
              "        text-align: right;\n",
              "    }\n",
              "</style>\n",
              "<table border=\"1\" class=\"dataframe\">\n",
              "  <thead>\n",
              "    <tr style=\"text-align: right;\">\n",
              "      <th></th>\n",
              "    </tr>\n",
              "  </thead>\n",
              "  <tbody>\n",
              "    <tr>\n",
              "      <th>Type</th>\n",
              "    </tr>\n",
              "    <tr>\n",
              "      <th>Start</th>\n",
              "    </tr>\n",
              "    <tr>\n",
              "      <th>End</th>\n",
              "    </tr>\n",
              "    <tr>\n",
              "      <th>Population</th>\n",
              "    </tr>\n",
              "  </tbody>\n",
              "</table>\n",
              "</div>"
            ],
            "text/plain": [
              "Empty DataFrame\n",
              "Columns: []\n",
              "Index: [Type, Start, End, Population]"
            ]
          },
          "metadata": {},
          "execution_count": 6
        }
      ]
    },
    {
      "cell_type": "markdown",
      "metadata": {
        "id": "HcYFNU_NEUWU"
      },
      "source": [
        "## Set phases with S-R trend analysis\n",
        "How can we set phases?\n",
        "\n",
        "Here, we will use \"S-R trend analysis\" explained in [S-R trend analysis section in \"Kaggle: COVID-19 data with SIR model\"](https://www.kaggle.com/lisphilar/covid-19-data-with-sir-model#S-R-trend-analysis). $S$ (Susceptible) and $R$ (Recovered) show the following relationship in SIR-derived models. $S_{(R)}$ means $S$ as a function of $R$.\n",
        "\n",
        "$$S_{(R)} = N e^{-a R}$$\n",
        "\n",
        "where $N$ is total population and $a=\\cfrac{\\beta}{N \\gamma}$ is a constant.  \n",
        "This leads to\n",
        "$$\\log S_{(R)} = - a R + \\log N$$"
      ]
    },
    {
      "cell_type": "markdown",
      "metadata": {
        "id": "oxpbXek7EUWV"
      },
      "source": [
        "$\\log S$ decreases constantly with increase of $R$, when the records follow a SIR-derived model and the parameter values of the model are constant. With logarithmic y-axis scale, plot of $(x, y) = (R, S)$ shows a line. "
      ]
    },
    {
      "cell_type": "markdown",
      "metadata": {
        "id": "lL8oRiDbEUWV"
      },
      "source": [
        "The slope of the line may change when the parameter values ($\\beta$ and $\\gamma$) are changed. To detect the dates when the parameter values were changed, we will find the change points of $\\log S$ as a function of $R$, using [ruptures: change point detection in Python](https://github.com/deepcharles/ruptures) via `Scenario.trend()`. We call the period from a change point to the next change point as a \"phase\" in this analysis."
      ]
    },
    {
      "cell_type": "markdown",
      "metadata": {
        "id": "hU0gCt73EUWW"
      },
      "source": [
        "We can select the algorithm and models to detect the change points from \"Binseg-normal\" (default), \"Pelt-rbf\", \"Binseg-rbf\", \"BottomUp-rbf\", \"BottomUp-normal\". Please refer to [the documentation of ruptures package](https://centre-borelli.github.io/ruptures-docs/). Please use `algo` argument of `Scenario.trend()`."
      ]
    },
    {
      "cell_type": "markdown",
      "metadata": {
        "id": "LqW1YqKvEUWW"
      },
      "source": [
        "Additionally, we can specify the minimum size of phases with `min_size` (7 days as default) argument of `Scenario.trend()`."
      ]
    },
    {
      "cell_type": "code",
      "metadata": {
        "tags": [],
        "id": "rwSDAfHwEUWW",
        "outputId": "2e74e81e-be37-4ca5-9725-bf51e8c87984",
        "colab": {
          "base_uri": "https://localhost:8080/",
          "height": 822
        }
      },
      "source": [
        "# Set phase with S-R trend analysis\n",
        "snl.trend(algo=\"Pelt-rbf\", min_size=5)\n",
        "snl.summary()"
      ],
      "execution_count": 7,
      "outputs": [
        {
          "output_type": "display_data",
          "data": {
            "image/png": "[encoded data removed]",
            "text/plain": [
              "<Figure size 648x432 with 1 Axes>"
            ]
          },
          "metadata": {
            "needs_background": "light"
          }
        },
        {
          "output_type": "execute_result",
          "data": {
            "text/html": [
              "<div>\n",
              "<style scoped>\n",
              "    .dataframe tbody tr th:only-of-type {\n",
              "        vertical-align: middle;\n",
              "    }\n",
              "\n",
              "    .dataframe tbody tr th {\n",
              "        vertical-align: top;\n",
              "    }\n",
              "\n",
              "    .dataframe thead th {\n",
              "        text-align: right;\n",
              "    }\n",
              "</style>\n",
              "<table border=\"1\" class=\"dataframe\">\n",
              "  <thead>\n",
              "    <tr style=\"text-align: right;\">\n",
              "      <th></th>\n",
              "      <th>Type</th>\n",
              "      <th>Start</th>\n",
              "      <th>End</th>\n",
              "      <th>Population</th>\n",
              "    </tr>\n",
              "  </thead>\n",
              "  <tbody>\n",
              "    <tr>\n",
              "      <th>0th</th>\n",
              "      <td>Past</td>\n",
              "      <td>01Mar2020</td>\n",
              "      <td>02May2020</td>\n",
              "      <td>1352617328</td>\n",
              "    </tr>\n",
              "    <tr>\n",
              "      <th>1st</th>\n",
              "      <td>Past</td>\n",
              "      <td>03May2020</td>\n",
              "      <td>19May2020</td>\n",
              "      <td>1352617328</td>\n",
              "    </tr>\n",
              "    <tr>\n",
              "      <th>2nd</th>\n",
              "      <td>Past</td>\n",
              "      <td>20May2020</td>\n",
              "      <td>31May2020</td>\n",
              "      <td>1352617328</td>\n",
              "    </tr>\n",
              "    <tr>\n",
              "      <th>3rd</th>\n",
              "      <td>Past</td>\n",
              "      <td>01Jun2020</td>\n",
              "      <td>09Jun2020</td>\n",
              "      <td>1352617328</td>\n",
              "    </tr>\n",
              "    <tr>\n",
              "      <th>4th</th>\n",
              "      <td>Past</td>\n",
              "      <td>10Jun2020</td>\n",
              "      <td>17Jun2020</td>\n",
              "      <td>1352617328</td>\n",
              "    </tr>\n",
              "    <tr>\n",
              "      <th>5th</th>\n",
              "      <td>Past</td>\n",
              "      <td>18Jun2020</td>\n",
              "      <td>24Jun2020</td>\n",
              "      <td>1352617328</td>\n",
              "    </tr>\n",
              "    <tr>\n",
              "      <th>6th</th>\n",
              "      <td>Past</td>\n",
              "      <td>25Jun2020</td>\n",
              "      <td>30Jun2020</td>\n",
              "      <td>1352617328</td>\n",
              "    </tr>\n",
              "    <tr>\n",
              "      <th>7th</th>\n",
              "      <td>Past</td>\n",
              "      <td>01Jul2020</td>\n",
              "      <td>05Jul2020</td>\n",
              "      <td>1352617328</td>\n",
              "    </tr>\n",
              "    <tr>\n",
              "      <th>8th</th>\n",
              "      <td>Past</td>\n",
              "      <td>06Jul2020</td>\n",
              "      <td>10Jul2020</td>\n",
              "      <td>1352617328</td>\n",
              "    </tr>\n",
              "    <tr>\n",
              "      <th>9th</th>\n",
              "      <td>Past</td>\n",
              "      <td>11Jul2020</td>\n",
              "      <td>16Jul2020</td>\n",
              "      <td>1352617328</td>\n",
              "    </tr>\n",
              "  </tbody>\n",
              "</table>\n",
              "</div>"
            ],
            "text/plain": [
              "     Type      Start        End  Population\n",
              "0th  Past  01Mar2020  02May2020  1352617328\n",
              "1st  Past  03May2020  19May2020  1352617328\n",
              "2nd  Past  20May2020  31May2020  1352617328\n",
              "3rd  Past  01Jun2020  09Jun2020  1352617328\n",
              "4th  Past  10Jun2020  17Jun2020  1352617328\n",
              "5th  Past  18Jun2020  24Jun2020  1352617328\n",
              "6th  Past  25Jun2020  30Jun2020  1352617328\n",
              "7th  Past  01Jul2020  05Jul2020  1352617328\n",
              "8th  Past  06Jul2020  10Jul2020  1352617328\n",
              "9th  Past  11Jul2020  16Jul2020  1352617328"
            ]
          },
          "metadata": {},
          "execution_count": 7
        }
      ]
    },
    {
      "cell_type": "markdown",
      "metadata": {
        "id": "gP-VgDnVEUWX"
      },
      "source": [
        "## Disable/enable phases\n",
        "If no need to analyse some phases, we can disable the phase with `Scenario.disable()`. Here, we will disable the 0th and 1st phase."
      ]
    },
    {
      "cell_type": "code",
      "metadata": {
        "id": "CruzcFlQEUWX",
        "outputId": "94f7d4cb-84b9-43bc-fac3-f01da71fdb39",
        "colab": {
          "base_uri": "https://localhost:8080/",
          "height": 300
        }
      },
      "source": [
        "snl.disable(phases=[\"0th\", \"1st\"]).summary()"
      ],
      "execution_count": 8,
      "outputs": [
        {
          "output_type": "execute_result",
          "data": {
            "text/html": [
              "<div>\n",
              "<style scoped>\n",
              "    .dataframe tbody tr th:only-of-type {\n",
              "        vertical-align: middle;\n",
              "    }\n",
              "\n",
              "    .dataframe tbody tr th {\n",
              "        vertical-align: top;\n",
              "    }\n",
              "\n",
              "    .dataframe thead th {\n",
              "        text-align: right;\n",
              "    }\n",
              "</style>\n",
              "<table border=\"1\" class=\"dataframe\">\n",
              "  <thead>\n",
              "    <tr style=\"text-align: right;\">\n",
              "      <th></th>\n",
              "      <th>Type</th>\n",
              "      <th>Start</th>\n",
              "      <th>End</th>\n",
              "      <th>Population</th>\n",
              "    </tr>\n",
              "  </thead>\n",
              "  <tbody>\n",
              "    <tr>\n",
              "      <th>2nd</th>\n",
              "      <td>Past</td>\n",
              "      <td>20May2020</td>\n",
              "      <td>31May2020</td>\n",
              "      <td>1352617328</td>\n",
              "    </tr>\n",
              "    <tr>\n",
              "      <th>3rd</th>\n",
              "      <td>Past</td>\n",
              "      <td>01Jun2020</td>\n",
              "      <td>09Jun2020</td>\n",
              "      <td>1352617328</td>\n",
              "    </tr>\n",
              "    <tr>\n",
              "      <th>4th</th>\n",
              "      <td>Past</td>\n",
              "      <td>10Jun2020</td>\n",
              "      <td>17Jun2020</td>\n",
              "      <td>1352617328</td>\n",
              "    </tr>\n",
              "    <tr>\n",
              "      <th>5th</th>\n",
              "      <td>Past</td>\n",
              "      <td>18Jun2020</td>\n",
              "      <td>24Jun2020</td>\n",
              "      <td>1352617328</td>\n",
              "    </tr>\n",
              "    <tr>\n",
              "      <th>6th</th>\n",
              "      <td>Past</td>\n",
              "      <td>25Jun2020</td>\n",
              "      <td>30Jun2020</td>\n",
              "      <td>1352617328</td>\n",
              "    </tr>\n",
              "    <tr>\n",
              "      <th>7th</th>\n",
              "      <td>Past</td>\n",
              "      <td>01Jul2020</td>\n",
              "      <td>05Jul2020</td>\n",
              "      <td>1352617328</td>\n",
              "    </tr>\n",
              "    <tr>\n",
              "      <th>8th</th>\n",
              "      <td>Past</td>\n",
              "      <td>06Jul2020</td>\n",
              "      <td>10Jul2020</td>\n",
              "      <td>1352617328</td>\n",
              "    </tr>\n",
              "    <tr>\n",
              "      <th>9th</th>\n",
              "      <td>Past</td>\n",
              "      <td>11Jul2020</td>\n",
              "      <td>16Jul2020</td>\n",
              "      <td>1352617328</td>\n",
              "    </tr>\n",
              "  </tbody>\n",
              "</table>\n",
              "</div>"
            ],
            "text/plain": [
              "     Type      Start        End  Population\n",
              "2nd  Past  20May2020  31May2020  1352617328\n",
              "3rd  Past  01Jun2020  09Jun2020  1352617328\n",
              "4th  Past  10Jun2020  17Jun2020  1352617328\n",
              "5th  Past  18Jun2020  24Jun2020  1352617328\n",
              "6th  Past  25Jun2020  30Jun2020  1352617328\n",
              "7th  Past  01Jul2020  05Jul2020  1352617328\n",
              "8th  Past  06Jul2020  10Jul2020  1352617328\n",
              "9th  Past  11Jul2020  16Jul2020  1352617328"
            ]
          },
          "metadata": {},
          "execution_count": 8
        }
      ]
    },
    {
      "cell_type": "markdown",
      "metadata": {
        "id": "PCWuyStXEUWX"
      },
      "source": [
        "The 0th and 1st phase are not shown in the summary."
      ]
    },
    {
      "cell_type": "markdown",
      "metadata": {
        "id": "OPZWj14sEUWX"
      },
      "source": [
        "When we want to enable some phase, we use `Scenario.eanble()`. Here, we will enable 1st phase. The 0th phase remain disabled."
      ]
    },
    {
      "cell_type": "code",
      "metadata": {
        "id": "PqgaRe9MEUWY",
        "outputId": "ff5b087b-6bc7-4778-e1f1-631bcb4aa6cb",
        "colab": {
          "base_uri": "https://localhost:8080/",
          "height": 331
        }
      },
      "source": [
        "snl.enable(phases=[\"1st\"]).summary()"
      ],
      "execution_count": 9,
      "outputs": [
        {
          "output_type": "execute_result",
          "data": {
            "text/html": [
              "<div>\n",
              "<style scoped>\n",
              "    .dataframe tbody tr th:only-of-type {\n",
              "        vertical-align: middle;\n",
              "    }\n",
              "\n",
              "    .dataframe tbody tr th {\n",
              "        vertical-align: top;\n",
              "    }\n",
              "\n",
              "    .dataframe thead th {\n",
              "        text-align: right;\n",
              "    }\n",
              "</style>\n",
              "<table border=\"1\" class=\"dataframe\">\n",
              "  <thead>\n",
              "    <tr style=\"text-align: right;\">\n",
              "      <th></th>\n",
              "      <th>Type</th>\n",
              "      <th>Start</th>\n",
              "      <th>End</th>\n",
              "      <th>Population</th>\n",
              "    </tr>\n",
              "  </thead>\n",
              "  <tbody>\n",
              "    <tr>\n",
              "      <th>1st</th>\n",
              "      <td>Past</td>\n",
              "      <td>03May2020</td>\n",
              "      <td>19May2020</td>\n",
              "      <td>1352617328</td>\n",
              "    </tr>\n",
              "    <tr>\n",
              "      <th>2nd</th>\n",
              "      <td>Past</td>\n",
              "      <td>20May2020</td>\n",
              "      <td>31May2020</td>\n",
              "      <td>1352617328</td>\n",
              "    </tr>\n",
              "    <tr>\n",
              "      <th>3rd</th>\n",
              "      <td>Past</td>\n",
              "      <td>01Jun2020</td>\n",
              "      <td>09Jun2020</td>\n",
              "      <td>1352617328</td>\n",
              "    </tr>\n",
              "    <tr>\n",
              "      <th>4th</th>\n",
              "      <td>Past</td>\n",
              "      <td>10Jun2020</td>\n",
              "      <td>17Jun2020</td>\n",
              "      <td>1352617328</td>\n",
              "    </tr>\n",
              "    <tr>\n",
              "      <th>5th</th>\n",
              "      <td>Past</td>\n",
              "      <td>18Jun2020</td>\n",
              "      <td>24Jun2020</td>\n",
              "      <td>1352617328</td>\n",
              "    </tr>\n",
              "    <tr>\n",
              "      <th>6th</th>\n",
              "      <td>Past</td>\n",
              "      <td>25Jun2020</td>\n",
              "      <td>30Jun2020</td>\n",
              "      <td>1352617328</td>\n",
              "    </tr>\n",
              "    <tr>\n",
              "      <th>7th</th>\n",
              "      <td>Past</td>\n",
              "      <td>01Jul2020</td>\n",
              "      <td>05Jul2020</td>\n",
              "      <td>1352617328</td>\n",
              "    </tr>\n",
              "    <tr>\n",
              "      <th>8th</th>\n",
              "      <td>Past</td>\n",
              "      <td>06Jul2020</td>\n",
              "      <td>10Jul2020</td>\n",
              "      <td>1352617328</td>\n",
              "    </tr>\n",
              "    <tr>\n",
              "      <th>9th</th>\n",
              "      <td>Past</td>\n",
              "      <td>11Jul2020</td>\n",
              "      <td>16Jul2020</td>\n",
              "      <td>1352617328</td>\n",
              "    </tr>\n",
              "  </tbody>\n",
              "</table>\n",
              "</div>"
            ],
            "text/plain": [
              "     Type      Start        End  Population\n",
              "1st  Past  03May2020  19May2020  1352617328\n",
              "2nd  Past  20May2020  31May2020  1352617328\n",
              "3rd  Past  01Jun2020  09Jun2020  1352617328\n",
              "4th  Past  10Jun2020  17Jun2020  1352617328\n",
              "5th  Past  18Jun2020  24Jun2020  1352617328\n",
              "6th  Past  25Jun2020  30Jun2020  1352617328\n",
              "7th  Past  01Jul2020  05Jul2020  1352617328\n",
              "8th  Past  06Jul2020  10Jul2020  1352617328\n",
              "9th  Past  11Jul2020  16Jul2020  1352617328"
            ]
          },
          "metadata": {},
          "execution_count": 9
        }
      ]
    },
    {
      "cell_type": "markdown",
      "metadata": {
        "id": "8XRZloC6EUWY"
      },
      "source": [
        "## Remove un-necessary change points manually\n",
        "The slope of the 5th phase seems to equal to that of 4th phase. Here, we will combine 4th phase and 5th phase here and reset phase names.\n",
        "\n",
        "||before|after|\n",
        "|---|---|---|\n",
        "|4th|10Jun - 17Jun|10Jun - **24Jun**|\n",
        "|5th|18Jun - **24Jun**|25Jun - 30Jun|"
      ]
    },
    {
      "cell_type": "code",
      "metadata": {
        "tags": [],
        "id": "KrcsmNtZEUWY",
        "outputId": "777aa7a9-6b1f-495e-9ab2-6353e9971090",
        "colab": {
          "base_uri": "https://localhost:8080/",
          "height": 300
        }
      },
      "source": [
        "snl.combine(phases=[\"4th\", \"5th\"])\n",
        "snl.summary()"
      ],
      "execution_count": 10,
      "outputs": [
        {
          "output_type": "execute_result",
          "data": {
            "text/html": [
              "<div>\n",
              "<style scoped>\n",
              "    .dataframe tbody tr th:only-of-type {\n",
              "        vertical-align: middle;\n",
              "    }\n",
              "\n",
              "    .dataframe tbody tr th {\n",
              "        vertical-align: top;\n",
              "    }\n",
              "\n",
              "    .dataframe thead th {\n",
              "        text-align: right;\n",
              "    }\n",
              "</style>\n",
              "<table border=\"1\" class=\"dataframe\">\n",
              "  <thead>\n",
              "    <tr style=\"text-align: right;\">\n",
              "      <th></th>\n",
              "      <th>Type</th>\n",
              "      <th>Start</th>\n",
              "      <th>End</th>\n",
              "      <th>Population</th>\n",
              "    </tr>\n",
              "  </thead>\n",
              "  <tbody>\n",
              "    <tr>\n",
              "      <th>1st</th>\n",
              "      <td>Past</td>\n",
              "      <td>03May2020</td>\n",
              "      <td>19May2020</td>\n",
              "      <td>1352617328</td>\n",
              "    </tr>\n",
              "    <tr>\n",
              "      <th>2nd</th>\n",
              "      <td>Past</td>\n",
              "      <td>20May2020</td>\n",
              "      <td>31May2020</td>\n",
              "      <td>1352617328</td>\n",
              "    </tr>\n",
              "    <tr>\n",
              "      <th>3rd</th>\n",
              "      <td>Past</td>\n",
              "      <td>01Jun2020</td>\n",
              "      <td>09Jun2020</td>\n",
              "      <td>1352617328</td>\n",
              "    </tr>\n",
              "    <tr>\n",
              "      <th>4th</th>\n",
              "      <td>Past</td>\n",
              "      <td>10Jun2020</td>\n",
              "      <td>24Jun2020</td>\n",
              "      <td>1352617328</td>\n",
              "    </tr>\n",
              "    <tr>\n",
              "      <th>5th</th>\n",
              "      <td>Past</td>\n",
              "      <td>25Jun2020</td>\n",
              "      <td>30Jun2020</td>\n",
              "      <td>1352617328</td>\n",
              "    </tr>\n",
              "    <tr>\n",
              "      <th>6th</th>\n",
              "      <td>Past</td>\n",
              "      <td>01Jul2020</td>\n",
              "      <td>05Jul2020</td>\n",
              "      <td>1352617328</td>\n",
              "    </tr>\n",
              "    <tr>\n",
              "      <th>7th</th>\n",
              "      <td>Past</td>\n",
              "      <td>06Jul2020</td>\n",
              "      <td>10Jul2020</td>\n",
              "      <td>1352617328</td>\n",
              "    </tr>\n",
              "    <tr>\n",
              "      <th>8th</th>\n",
              "      <td>Past</td>\n",
              "      <td>11Jul2020</td>\n",
              "      <td>16Jul2020</td>\n",
              "      <td>1352617328</td>\n",
              "    </tr>\n",
              "  </tbody>\n",
              "</table>\n",
              "</div>"
            ],
            "text/plain": [
              "     Type      Start        End  Population\n",
              "1st  Past  03May2020  19May2020  1352617328\n",
              "2nd  Past  20May2020  31May2020  1352617328\n",
              "3rd  Past  01Jun2020  09Jun2020  1352617328\n",
              "4th  Past  10Jun2020  24Jun2020  1352617328\n",
              "5th  Past  25Jun2020  30Jun2020  1352617328\n",
              "6th  Past  01Jul2020  05Jul2020  1352617328\n",
              "7th  Past  06Jul2020  10Jul2020  1352617328\n",
              "8th  Past  11Jul2020  16Jul2020  1352617328"
            ]
          },
          "metadata": {},
          "execution_count": 10
        }
      ]
    },
    {
      "cell_type": "markdown",
      "metadata": {
        "id": "rmb9bHmREUWY"
      },
      "source": [
        "## Separate phases manually\n",
        "Because point of $(x, y) = (S, R)$ jumped on 29May2020, we will separete the 1st phase with this change point and reset phase names.\n",
        "\n",
        "||before|after|\n",
        "|---|---|---|\n",
        "|2nd|20May - **31May**|20May - 28May|\n",
        "|3rd|01Jun - 09Jun|<u>29May</u> - **31May**|"
      ]
    },
    {
      "cell_type": "code",
      "metadata": {
        "tags": [],
        "id": "6JC8DwvXEUWZ",
        "outputId": "5bc31cca-32c7-4065-d0d8-bb9a4bbb3e09",
        "colab": {
          "base_uri": "https://localhost:8080/",
          "height": 331
        }
      },
      "source": [
        "snl.separate(\"29May2020\").summary()"
      ],
      "execution_count": 11,
      "outputs": [
        {
          "output_type": "execute_result",
          "data": {
            "text/html": [
              "<div>\n",
              "<style scoped>\n",
              "    .dataframe tbody tr th:only-of-type {\n",
              "        vertical-align: middle;\n",
              "    }\n",
              "\n",
              "    .dataframe tbody tr th {\n",
              "        vertical-align: top;\n",
              "    }\n",
              "\n",
              "    .dataframe thead th {\n",
              "        text-align: right;\n",
              "    }\n",
              "</style>\n",
              "<table border=\"1\" class=\"dataframe\">\n",
              "  <thead>\n",
              "    <tr style=\"text-align: right;\">\n",
              "      <th></th>\n",
              "      <th>Type</th>\n",
              "      <th>Start</th>\n",
              "      <th>End</th>\n",
              "      <th>Population</th>\n",
              "    </tr>\n",
              "  </thead>\n",
              "  <tbody>\n",
              "    <tr>\n",
              "      <th>1st</th>\n",
              "      <td>Past</td>\n",
              "      <td>03May2020</td>\n",
              "      <td>19May2020</td>\n",
              "      <td>1352617328</td>\n",
              "    </tr>\n",
              "    <tr>\n",
              "      <th>2nd</th>\n",
              "      <td>Past</td>\n",
              "      <td>20May2020</td>\n",
              "      <td>28May2020</td>\n",
              "      <td>1352617328</td>\n",
              "    </tr>\n",
              "    <tr>\n",
              "      <th>3rd</th>\n",
              "      <td>Past</td>\n",
              "      <td>29May2020</td>\n",
              "      <td>31May2020</td>\n",
              "      <td>1352617328</td>\n",
              "    </tr>\n",
              "    <tr>\n",
              "      <th>4th</th>\n",
              "      <td>Past</td>\n",
              "      <td>01Jun2020</td>\n",
              "      <td>09Jun2020</td>\n",
              "      <td>1352617328</td>\n",
              "    </tr>\n",
              "    <tr>\n",
              "      <th>5th</th>\n",
              "      <td>Past</td>\n",
              "      <td>10Jun2020</td>\n",
              "      <td>24Jun2020</td>\n",
              "      <td>1352617328</td>\n",
              "    </tr>\n",
              "    <tr>\n",
              "      <th>6th</th>\n",
              "      <td>Past</td>\n",
              "      <td>25Jun2020</td>\n",
              "      <td>30Jun2020</td>\n",
              "      <td>1352617328</td>\n",
              "    </tr>\n",
              "    <tr>\n",
              "      <th>7th</th>\n",
              "      <td>Past</td>\n",
              "      <td>01Jul2020</td>\n",
              "      <td>05Jul2020</td>\n",
              "      <td>1352617328</td>\n",
              "    </tr>\n",
              "    <tr>\n",
              "      <th>8th</th>\n",
              "      <td>Past</td>\n",
              "      <td>06Jul2020</td>\n",
              "      <td>10Jul2020</td>\n",
              "      <td>1352617328</td>\n",
              "    </tr>\n",
              "    <tr>\n",
              "      <th>9th</th>\n",
              "      <td>Past</td>\n",
              "      <td>11Jul2020</td>\n",
              "      <td>16Jul2020</td>\n",
              "      <td>1352617328</td>\n",
              "    </tr>\n",
              "  </tbody>\n",
              "</table>\n",
              "</div>"
            ],
            "text/plain": [
              "     Type      Start        End  Population\n",
              "1st  Past  03May2020  19May2020  1352617328\n",
              "2nd  Past  20May2020  28May2020  1352617328\n",
              "3rd  Past  29May2020  31May2020  1352617328\n",
              "4th  Past  01Jun2020  09Jun2020  1352617328\n",
              "5th  Past  10Jun2020  24Jun2020  1352617328\n",
              "6th  Past  25Jun2020  30Jun2020  1352617328\n",
              "7th  Past  01Jul2020  05Jul2020  1352617328\n",
              "8th  Past  06Jul2020  10Jul2020  1352617328\n",
              "9th  Past  11Jul2020  16Jul2020  1352617328"
            ]
          },
          "metadata": {},
          "execution_count": 11
        }
      ]
    },
    {
      "cell_type": "markdown",
      "metadata": {
        "id": "8KwCOuqYEUWZ"
      },
      "source": [
        "## Add phases one by one\n",
        "In the previous sections, we started with S-R trend analysis. We can create phases without this analysis when you have a new idea to find change points."
      ]
    },
    {
      "cell_type": "code",
      "metadata": {
        "id": "BwUp7vDnEUWZ",
        "outputId": "8242c5e2-8209-4480-fb81-830ea408f6b6",
        "colab": {
          "base_uri": "https://localhost:8080/",
          "height": 157
        }
      },
      "source": [
        "# Clear all phases\n",
        "snl.clear(include_past=True).summary()"
      ],
      "execution_count": 12,
      "outputs": [
        {
          "output_type": "execute_result",
          "data": {
            "text/html": [
              "<div>\n",
              "<style scoped>\n",
              "    .dataframe tbody tr th:only-of-type {\n",
              "        vertical-align: middle;\n",
              "    }\n",
              "\n",
              "    .dataframe tbody tr th {\n",
              "        vertical-align: top;\n",
              "    }\n",
              "\n",
              "    .dataframe thead th {\n",
              "        text-align: right;\n",
              "    }\n",
              "</style>\n",
              "<table border=\"1\" class=\"dataframe\">\n",
              "  <thead>\n",
              "    <tr style=\"text-align: right;\">\n",
              "      <th></th>\n",
              "    </tr>\n",
              "  </thead>\n",
              "  <tbody>\n",
              "    <tr>\n",
              "      <th>Type</th>\n",
              "    </tr>\n",
              "    <tr>\n",
              "      <th>Start</th>\n",
              "    </tr>\n",
              "    <tr>\n",
              "      <th>End</th>\n",
              "    </tr>\n",
              "    <tr>\n",
              "      <th>Population</th>\n",
              "    </tr>\n",
              "  </tbody>\n",
              "</table>\n",
              "</div>"
            ],
            "text/plain": [
              "Empty DataFrame\n",
              "Columns: []\n",
              "Index: [Type, Start, End, Population]"
            ]
          },
          "metadata": {},
          "execution_count": 12
        }
      ]
    },
    {
      "cell_type": "code",
      "metadata": {
        "id": "r8-zzvIlEUWa",
        "outputId": "075c6e59-8cb5-4c5e-efed-98ed18b982fa",
        "colab": {
          "base_uri": "https://localhost:8080/",
          "height": 206
        }
      },
      "source": [
        "# Set 0th phase to set the start date of 1st phase\n",
        "snl.add(end_date=\"19May2020\")\n",
        "# Add 1st phase and disable 0th phase\n",
        "snl.add(end_date=\"28May2020\").disable(phases=[\"0th\"])\n",
        "# Add 2nd phase\n",
        "snl.add(end_date=\"02Jun2020\")\n",
        "# Add 3rd phase\n",
        "snl.add(end_date=\"11Jun2020\")\n",
        "# Add 4th phase\n",
        "snl.add(end_date=\"29Jun2020\")\n",
        "# Add 5th phase to the last of the records\n",
        "snl.add().summary()"
      ],
      "execution_count": 13,
      "outputs": [
        {
          "output_type": "execute_result",
          "data": {
            "text/html": [
              "<div>\n",
              "<style scoped>\n",
              "    .dataframe tbody tr th:only-of-type {\n",
              "        vertical-align: middle;\n",
              "    }\n",
              "\n",
              "    .dataframe tbody tr th {\n",
              "        vertical-align: top;\n",
              "    }\n",
              "\n",
              "    .dataframe thead th {\n",
              "        text-align: right;\n",
              "    }\n",
              "</style>\n",
              "<table border=\"1\" class=\"dataframe\">\n",
              "  <thead>\n",
              "    <tr style=\"text-align: right;\">\n",
              "      <th></th>\n",
              "      <th>Type</th>\n",
              "      <th>Start</th>\n",
              "      <th>End</th>\n",
              "      <th>Population</th>\n",
              "    </tr>\n",
              "  </thead>\n",
              "  <tbody>\n",
              "    <tr>\n",
              "      <th>1st</th>\n",
              "      <td>Past</td>\n",
              "      <td>20May2020</td>\n",
              "      <td>28May2020</td>\n",
              "      <td>1352617328</td>\n",
              "    </tr>\n",
              "    <tr>\n",
              "      <th>2nd</th>\n",
              "      <td>Past</td>\n",
              "      <td>29May2020</td>\n",
              "      <td>02Jun2020</td>\n",
              "      <td>1352617328</td>\n",
              "    </tr>\n",
              "    <tr>\n",
              "      <th>3rd</th>\n",
              "      <td>Past</td>\n",
              "      <td>03Jun2020</td>\n",
              "      <td>11Jun2020</td>\n",
              "      <td>1352617328</td>\n",
              "    </tr>\n",
              "    <tr>\n",
              "      <th>4th</th>\n",
              "      <td>Past</td>\n",
              "      <td>12Jun2020</td>\n",
              "      <td>29Jun2020</td>\n",
              "      <td>1352617328</td>\n",
              "    </tr>\n",
              "    <tr>\n",
              "      <th>5th</th>\n",
              "      <td>Past</td>\n",
              "      <td>30Jun2020</td>\n",
              "      <td>16Jul2020</td>\n",
              "      <td>1352617328</td>\n",
              "    </tr>\n",
              "  </tbody>\n",
              "</table>\n",
              "</div>"
            ],
            "text/plain": [
              "     Type      Start        End  Population\n",
              "1st  Past  20May2020  28May2020  1352617328\n",
              "2nd  Past  29May2020  02Jun2020  1352617328\n",
              "3rd  Past  03Jun2020  11Jun2020  1352617328\n",
              "4th  Past  12Jun2020  29Jun2020  1352617328\n",
              "5th  Past  30Jun2020  16Jul2020  1352617328"
            ]
          },
          "metadata": {},
          "execution_count": 13
        }
      ]
    },
    {
      "cell_type": "code",
      "metadata": {
        "id": "TQOfg5BlRuDQ"
      },
      "source": [
        ""
      ],
      "execution_count": 13,
      "outputs": []
    }
  ]
}